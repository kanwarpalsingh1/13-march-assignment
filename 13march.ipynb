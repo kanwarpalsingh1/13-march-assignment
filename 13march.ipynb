{
 "cells": [
  {
   "cell_type": "markdown",
   "id": "3bccb20a-8072-4589-9d80-44ef415dac94",
   "metadata": {},
   "source": [
    "q.1Assumptions of ANOVA:\n",
    "\n",
    "Independence of observations: Data points should be independent of each other.\n",
    "Normality: Residuals should be normally distributed.\n",
    "Homogeneity of variances: Variances should be equal across groups.\n",
    "Examples of violations:\n",
    "Violation of independence: Observations from the same group being correlated.\n",
    "Non-normality: Residuals not following a normal distribution.\n",
    "Heteroscedasticity: Variances are not equal across groups.\n"
   ]
  },
  {
   "cell_type": "markdown",
   "id": "db756e20-d76c-49c3-9f90-0140e385f9b7",
   "metadata": {},
   "source": [
    "q.2 Types of ANOVA:\n",
    "\n",
    "One-way ANOVA: Compares means across two or more groups on a single independent variable.\n",
    "Two-way ANOVA: Examines the effects of two independent variables on a dependent variable.\n",
    "Repeated measures ANOVA: Analyzes the effects of a within-subjects factor, typically over time or repeated trials.\n"
   ]
  },
  {
   "cell_type": "markdown",
   "id": "d945fe91-8a33-4ff4-9ecc-2429bdf08f29",
   "metadata": {},
   "source": [
    "q.3.partitioning of Variance:\n",
    "\n",
    "ANOVA partitions total variance into different components:\n",
    "Total Sum of Squares (SST): Variation in the dependent variable.\n",
    "Explained Sum of Squares (SSE): Variation explained by the model.\n",
    "Residual Sum of Squares (SSR): Unexplained variation.\n",
    "Understanding this concept helps assess the proportion of variance explained by the model and the residual variance.\n"
   ]
  },
  {
   "cell_type": "markdown",
   "id": "8fb88a7e-1fb1-44bd-baf4-29ccb9cc67bf",
   "metadata": {},
   "source": [
    "q.4 Calculation of SST, SSE, and SSR in One-way ANOVA:\n",
    "\n",
    "SST = sum of squares total\n",
    "SSE = sum of squares explained\n",
    "SSR = sum of squares residual"
   ]
  },
  {
   "cell_type": "markdown",
   "id": "2834ba01-944c-4399-9c4d-3ba8c9d9315a",
   "metadata": {},
   "source": [
    "Q5. Calculating Main Effects and Interaction Effects in Two-way ANOVA using Python:\n",
    "\n",
    "To calculate main effects and interaction effects in a two-way ANOVA using Python, you can use libraries such as statsmodels.\n",
    "Main effects: Differences in means across levels of each independent variable.\n",
    "Interaction effects: Combined effect of two independent variables.\n",
    "Example Python code:\n",
    "python\n",
    "Copy code\n",
    "import statsmodels.api as sm\n",
    "from statsmodels.formula.api import ols\n",
    "\n",
    "# Assuming 'data' contains the dataset\n",
    "model = ols('dependent_variable ~ independent_variable_1 + independent_variable_2 + independent_variable_1*independent_variable_2', data=data).fit()\n",
    "anova_table = sm.stats.anova_lm(model, typ=2)\n"
   ]
  },
  {
   "cell_type": "markdown",
   "id": "0b2e2d30-7114-4fe4-b128-79f17c63b10e",
   "metadata": {},
   "source": [
    "Q6. Interpreting Results of One-way ANOVA:\n",
    "\n",
    "A p-value of 0.02 indicates that the probability of observing such extreme results, assuming the null hypothesis (no difference between groups), is 2%.\n",
    "Since the p-value is less than the significance level of 0.05, we reject the null hypothesis.\n",
    "Conclusion: There are significant differences between at least two groups.\n"
   ]
  },
  {
   "cell_type": "markdown",
   "id": "16fd6d8a-4b2e-47bb-b58c-1f6d1bf3e6ad",
   "metadata": {},
   "source": [
    "Q7. Handling Missing Data in Repeated Measures ANOVA:\n",
    "\n",
    "Methods for handling missing data include imputation (mean, median, regression), deletion (complete case, pairwise deletion), or using advanced techniques like mixed-effects models.\n",
    "Potential consequences: Imputation may introduce bias, deletion reduces sample size and may lead to biased results, and advanced methods require assumptions about the missing data mechanism.\n"
   ]
  },
  {
   "cell_type": "markdown",
   "id": "499cba2f-9ed2-4489-8010-bed9f5f128b7",
   "metadata": {},
   "source": [
    "Q8. Common Post-hoc Tests after ANOVA:\n",
    "\n",
    "Tukey's HSD (Honestly Significant Difference): Compares all pairs of means.\n",
    "Bonferroni correction: Controls for family-wise error rate.\n",
    "Scheffe's method: Conservative approach for unequal sample sizes.\n",
    "Example scenario: After conducting an ANOVA and finding significant differences, post-hoc tests are used to identify which specific groups differ significantly from each other.\n"
   ]
  },
  {
   "cell_type": "code",
   "execution_count": null,
   "id": "662c50e8-6871-4da3-8fea-b2538c9c2abe",
   "metadata": {},
   "outputs": [],
   "source": []
  }
 ],
 "metadata": {
  "kernelspec": {
   "display_name": "Python 3 (ipykernel)",
   "language": "python",
   "name": "python3"
  },
  "language_info": {
   "codemirror_mode": {
    "name": "ipython",
    "version": 3
   },
   "file_extension": ".py",
   "mimetype": "text/x-python",
   "name": "python",
   "nbconvert_exporter": "python",
   "pygments_lexer": "ipython3",
   "version": "3.10.8"
  }
 },
 "nbformat": 4,
 "nbformat_minor": 5
}
